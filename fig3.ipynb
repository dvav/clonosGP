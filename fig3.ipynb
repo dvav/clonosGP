{
 "cells": [
  {
   "cell_type": "code",
   "execution_count": 1,
   "metadata": {},
   "outputs": [],
   "source": [
    "import numpy as nmp\n",
    "import pandas as pnd\n",
    "import matplotlib.pyplot as plt\n",
    "\n",
    "import clonosGP as cln"
   ]
  },
  {
   "cell_type": "code",
   "execution_count": 2,
   "metadata": {},
   "outputs": [],
   "source": [
    "%load_ext autoreload\n",
    "%autoreload 2\n",
    "\n",
    "%matplotlib inline"
   ]
  },
  {
   "cell_type": "code",
   "execution_count": 3,
   "metadata": {},
   "outputs": [],
   "source": [
    "DATA1 = pnd.read_csv('results/cll_Schuh_2012_CLL003.csv')\n",
    "DATA2 = pnd.read_csv('results/cll_Schuh_2012_CLL006.csv')\n",
    "DATA3 = pnd.read_csv('results/cll_Schuh_2012_CLL077.csv')\n",
    "DATA4 = pnd.read_csv('results/cll_Rincon_2019_patient2.csv')"
   ]
  },
  {
   "cell_type": "code",
   "execution_count": 4,
   "metadata": {},
   "outputs": [
    {
     "name": "stderr",
     "output_type": "stream",
     "text": [
      "WARNING:rpy2.rinterface_lib.callbacks:R[write to console]: ── \u001b[1mAttaching packages\u001b[22m ─────────────────────────────────────── tidyverse 1.3.0 ──\n",
      "\n",
      "WARNING:rpy2.rinterface_lib.callbacks:R[write to console]: \u001b[32m✔\u001b[39m \u001b[34mggplot2\u001b[39m 3.2.1     \u001b[32m✔\u001b[39m \u001b[34mpurrr  \u001b[39m 0.3.3\n",
      "\u001b[32m✔\u001b[39m \u001b[34mtibble \u001b[39m 2.1.3     \u001b[32m✔\u001b[39m \u001b[34mdplyr  \u001b[39m 0.8.3\n",
      "\u001b[32m✔\u001b[39m \u001b[34mtidyr  \u001b[39m 1.0.0     \u001b[32m✔\u001b[39m \u001b[34mstringr\u001b[39m 1.4.0\n",
      "\u001b[32m✔\u001b[39m \u001b[34mreadr  \u001b[39m 1.3.1     \u001b[32m✔\u001b[39m \u001b[34mforcats\u001b[39m 0.4.0\n",
      "\n",
      "WARNING:rpy2.rinterface_lib.callbacks:R[write to console]: ── \u001b[1mConflicts\u001b[22m ────────────────────────────────────────── tidyverse_conflicts() ──\n",
      "\u001b[31m✖\u001b[39m \u001b[34mdplyr\u001b[39m::\u001b[32mfilter()\u001b[39m masks \u001b[34mstats\u001b[39m::filter()\n",
      "\u001b[31m✖\u001b[39m \u001b[34mdplyr\u001b[39m::\u001b[32mlag()\u001b[39m    masks \u001b[34mstats\u001b[39m::lag()\n",
      "\n"
     ]
    },
    {
     "data": {
      "text/plain": [
       "array(['patchwork', 'forcats', 'stringr', 'dplyr', 'purrr', 'readr',\n",
       "       'tidyr', 'tibble', 'ggplot2', 'tidyverse', 'tools', 'stats',\n",
       "       'graphics', 'grDevices', 'utils', 'datasets', 'methods', 'base'],\n",
       "      dtype='<U9')"
      ]
     },
     "execution_count": 4,
     "metadata": {},
     "output_type": "execute_result"
    }
   ],
   "source": [
    "%load_ext rpy2.ipython\n",
    "%R library(tidyverse)\n",
    "%R library(patchwork)"
   ]
  },
  {
   "cell_type": "code",
   "execution_count": 9,
   "metadata": {},
   "outputs": [
    {
     "data": {
      "image/png": "[encoded data removed]"
     },
     "metadata": {},
     "output_type": "display_data"
    }
   ],
   "source": [
    "%%R -i DATA1,DATA2,DATA3,DATA4 -w 7 -h 7 --units in\n",
    "\n",
    "df = bind_rows(\n",
    "    DATA1 %>% mutate(DATASET = 'CLL003 (Schuh et al. 2012)'),\n",
    "    DATA2 %>% mutate(DATASET = 'CLL006 (Schuh et al. 2012)'),\n",
    "    DATA3 %>% mutate(DATASET = 'CLL077 (Schuh et al. 2012)'),\n",
    "    DATA4 %>% mutate(DATASET = 'Patient 2 (Rincon et al. 2019)')\n",
    ") %>%\n",
    "    filter(METRIC == 'LOSS', LIK == 'BBin', PRIOR != 'GP2') %>%\n",
    "    mutate(LABEL = if_else(PRIOR == 'Flat', 'Flat', str_c(PRIOR, COV, sep='-'))) %>%\n",
    "    mutate(LABEL = factor(LABEL, levels = unique(.$LABEL)))\n",
    "\n",
    "hlines = df %>% filter(LABEL == 'Flat') \n",
    "\n",
    "df %>%\n",
    "    ggplot() +\n",
    "    geom_hline(aes(yintercept = -MEDIAN), data = hlines, linetype = 'dashed') +\n",
    "    geom_linerange(aes(x = LABEL, ymin=-HIGH, ymax=-LOW)) +\n",
    "    geom_point(aes(x = LABEL, y = -MEDIAN)) +    \n",
    "    facet_wrap(~DATASET, nrow=2, scales = 'free_y') +\n",
    "    theme_bw() +\n",
    "    theme(axis.text.x = element_text(angle = 90, hjust = 1, vjust = 0.5)) +\n",
    "    labs(x=NULL, y='evidence lower bound')\n",
    "    \n",
    "# ggsave('tmp.pdf')"
   ]
  },
  {
   "cell_type": "code",
   "execution_count": null,
   "metadata": {},
   "outputs": [],
   "source": []
  }
 ],
 "metadata": {
  "kernelspec": {
   "display_name": "Python 3",
   "language": "python",
   "name": "python3"
  },
  "language_info": {
   "codemirror_mode": {
    "name": "ipython",
    "version": 3
   },
   "file_extension": ".py",
   "mimetype": "text/x-python",
   "name": "python",
   "nbconvert_exporter": "python",
   "pygments_lexer": "ipython3",
   "version": "3.7.3"
  }
 },
 "nbformat": 4,
 "nbformat_minor": 4
}
