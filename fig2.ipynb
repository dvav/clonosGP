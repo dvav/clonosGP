{
 "cells": [
  {
   "cell_type": "code",
   "execution_count": 2,
   "metadata": {},
   "outputs": [],
   "source": [
    "import numpy as nmp\n",
    "import pandas as pnd\n",
    "import matplotlib.pyplot as plt\n",
    "import pickle as pkl\n",
    "\n",
    "import pymc3 as pmc\n",
    "\n",
    "import clonosGP as cln"
   ]
  },
  {
   "cell_type": "code",
   "execution_count": 3,
   "metadata": {},
   "outputs": [],
   "source": [
    "%load_ext autoreload\n",
    "%autoreload 2\n",
    "\n",
    "%matplotlib inline"
   ]
  },
  {
   "cell_type": "code",
   "execution_count": 4,
   "metadata": {},
   "outputs": [],
   "source": [
    "DATA1 = pnd.read_csv('data/cll_Schuh_2012_CLL003.csv')\n",
    "DATA2 = pnd.read_csv('data/cll_Schuh_2012_CLL006.csv')\n",
    "DATA3 = pnd.read_csv('data/cll_Schuh_2012_CLL077.csv')\n",
    "DATA4 = pnd.read_csv('data/cll_Rincon_2019_patient2.csv')"
   ]
  },
  {
   "cell_type": "code",
   "execution_count": 8,
   "metadata": {},
   "outputs": [],
   "source": [
    "def run_model(prior, data):    \n",
    "    nmp.random.seed(42)\n",
    "    pmc.tt_rng(42)\n",
    "    \n",
    "    return cln.infer(data, \n",
    "                     model_args={'K': 20, 'prior': prior, 'cov': 'Mat32', 'lik': 'BBin', 'threshold': 0.0},\n",
    "                     pymc3_args={'niters': 10000, 'method': 'advi', 'flow': 'scale-loc', 'learning_rate': 1e-2, 'random_seed': 42})"
   ]
  },
  {
   "cell_type": "code",
   "execution_count": 9,
   "metadata": {},
   "outputs": [
    {
     "name": "stderr",
     "output_type": "stream",
     "text": [
      "INFO:clonosGP:No PURITY column in the data. Assuming all samples have purity 100%.\n",
      "INFO:clonosGP:No CNn column in the data. Assuming germline is diploid over all provided loci.\n",
      "INFO:clonosGP:No CNt column in the data. Assuming all tumour samples are diploid over all provided loci.\n",
      "INFO:clonosGP:No CNm column in the data. Multiplicity values will be approximated.\n",
      "Average Loss = 413.23: 100%|██████████| 10000/10000 [00:11<00:00, 883.43it/s]\n",
      "Finished [100%]: Average Loss = 413.24\n",
      "INFO:pymc3.variational.inference:Finished [100%]: Average Loss = 413.24\n",
      "INFO:clonosGP:Calculating posterior cluster weights and centres.\n",
      "INFO:clonosGP:Calculating posterior CCF values.\n",
      "INFO:clonosGP:Calculating posterior predictive distribution.\n",
      "INFO:clonosGP:Calculating dispersion(s).\n",
      "INFO:clonosGP:Finished.\n",
      "INFO:clonosGP:No PURITY column in the data. Assuming all samples have purity 100%.\n",
      "INFO:clonosGP:No CNn column in the data. Assuming germline is diploid over all provided loci.\n",
      "INFO:clonosGP:No CNt column in the data. Assuming all tumour samples are diploid over all provided loci.\n",
      "INFO:clonosGP:No CNm column in the data. Multiplicity values will be approximated.\n",
      "Average Loss = 270.51: 100%|██████████| 10000/10000 [00:08<00:00, 1236.43it/s]\n",
      "Finished [100%]: Average Loss = 270.51\n",
      "INFO:pymc3.variational.inference:Finished [100%]: Average Loss = 270.51\n",
      "INFO:clonosGP:Calculating posterior cluster weights and centres.\n",
      "INFO:clonosGP:Calculating posterior CCF values.\n",
      "INFO:clonosGP:Calculating posterior predictive distribution.\n",
      "INFO:clonosGP:Calculating dispersion(s).\n",
      "INFO:clonosGP:Finished.\n",
      "INFO:clonosGP:No PURITY column in the data. Assuming all samples have purity 100%.\n",
      "INFO:clonosGP:No CNn column in the data. Assuming germline is diploid over all provided loci.\n",
      "INFO:clonosGP:No CNt column in the data. Assuming all tumour samples are diploid over all provided loci.\n",
      "INFO:clonosGP:No CNm column in the data. Multiplicity values will be approximated.\n",
      "Average Loss = 296.14: 100%|██████████| 10000/10000 [00:09<00:00, 1083.81it/s]\n",
      "Finished [100%]: Average Loss = 296.15\n",
      "INFO:pymc3.variational.inference:Finished [100%]: Average Loss = 296.15\n",
      "INFO:clonosGP:Calculating posterior cluster weights and centres.\n",
      "INFO:clonosGP:Calculating posterior CCF values.\n",
      "INFO:clonosGP:Calculating posterior predictive distribution.\n",
      "INFO:clonosGP:Calculating dispersion(s).\n",
      "INFO:clonosGP:Finished.\n",
      "INFO:clonosGP:No PURITY column in the data. Assuming all samples have purity 100%.\n",
      "INFO:clonosGP:No CNn column in the data. Assuming germline is diploid over all provided loci.\n",
      "INFO:clonosGP:No CNt column in the data. Assuming all tumour samples are diploid over all provided loci.\n",
      "INFO:clonosGP:No CNm column in the data. Multiplicity values will be approximated.\n",
      "Average Loss = 772.48: 100%|██████████| 10000/10000 [00:10<00:00, 955.51it/s]\n",
      "Finished [100%]: Average Loss = 772.48\n",
      "INFO:pymc3.variational.inference:Finished [100%]: Average Loss = 772.48\n",
      "INFO:clonosGP:Calculating posterior cluster weights and centres.\n",
      "INFO:clonosGP:Calculating posterior CCF values.\n",
      "INFO:clonosGP:Calculating posterior predictive distribution.\n",
      "INFO:clonosGP:Calculating dispersion(s).\n",
      "INFO:clonosGP:Finished.\n",
      "INFO:clonosGP:No PURITY column in the data. Assuming all samples have purity 100%.\n",
      "INFO:clonosGP:No CNn column in the data. Assuming germline is diploid over all provided loci.\n",
      "INFO:clonosGP:No CNt column in the data. Assuming all tumour samples are diploid over all provided loci.\n",
      "INFO:clonosGP:No CNm column in the data. Multiplicity values will be approximated.\n",
      "  0%|          | 0/10000 [00:00<?, ?it/s]/home/dimitris/VENVS/py37/lib/python3.7/site-packages/theano/tensor/basic.py:6611: FutureWarning: Using a non-tuple sequence for multidimensional indexing is deprecated; use `arr[tuple(seq)]` instead of `arr[seq]`. In the future this will be interpreted as an array index, `arr[np.array(seq)]`, which will result either in an error or a different result.\n",
      "  result[diagonal_slice] = x\n",
      "Average Loss = 377.84: 100%|██████████| 10000/10000 [00:13<00:00, 720.60it/s]\n",
      "Finished [100%]: Average Loss = 377.85\n",
      "INFO:pymc3.variational.inference:Finished [100%]: Average Loss = 377.85\n",
      "INFO:clonosGP:Calculating posterior cluster weights and centres.\n",
      "INFO:clonosGP:Calculating posterior CCF values.\n",
      "INFO:clonosGP:Calculating posterior predictive distribution.\n",
      "INFO:clonosGP:Calculating GP-related quantities.\n",
      "INFO:clonosGP:Calculating dispersion(s).\n",
      "INFO:clonosGP:Finished.\n",
      "INFO:clonosGP:No PURITY column in the data. Assuming all samples have purity 100%.\n",
      "INFO:clonosGP:No CNn column in the data. Assuming germline is diploid over all provided loci.\n",
      "INFO:clonosGP:No CNt column in the data. Assuming all tumour samples are diploid over all provided loci.\n",
      "INFO:clonosGP:No CNm column in the data. Multiplicity values will be approximated.\n",
      "Average Loss = 262.52: 100%|██████████| 10000/10000 [00:11<00:00, 904.02it/s]\n",
      "Finished [100%]: Average Loss = 262.52\n",
      "INFO:pymc3.variational.inference:Finished [100%]: Average Loss = 262.52\n",
      "INFO:clonosGP:Calculating posterior cluster weights and centres.\n",
      "INFO:clonosGP:Calculating posterior CCF values.\n",
      "INFO:clonosGP:Calculating posterior predictive distribution.\n",
      "INFO:clonosGP:Calculating GP-related quantities.\n",
      "INFO:clonosGP:Calculating dispersion(s).\n",
      "INFO:clonosGP:Finished.\n",
      "INFO:clonosGP:No PURITY column in the data. Assuming all samples have purity 100%.\n",
      "INFO:clonosGP:No CNn column in the data. Assuming germline is diploid over all provided loci.\n",
      "INFO:clonosGP:No CNt column in the data. Assuming all tumour samples are diploid over all provided loci.\n",
      "INFO:clonosGP:No CNm column in the data. Multiplicity values will be approximated.\n",
      "Average Loss = 293.14: 100%|██████████| 10000/10000 [00:12<00:00, 805.25it/s]\n",
      "Finished [100%]: Average Loss = 293.14\n",
      "INFO:pymc3.variational.inference:Finished [100%]: Average Loss = 293.14\n",
      "INFO:clonosGP:Calculating posterior cluster weights and centres.\n",
      "INFO:clonosGP:Calculating posterior CCF values.\n",
      "INFO:clonosGP:Calculating posterior predictive distribution.\n",
      "INFO:clonosGP:Calculating GP-related quantities.\n",
      "INFO:clonosGP:Calculating dispersion(s).\n",
      "INFO:clonosGP:Finished.\n",
      "INFO:clonosGP:No PURITY column in the data. Assuming all samples have purity 100%.\n",
      "INFO:clonosGP:No CNn column in the data. Assuming germline is diploid over all provided loci.\n",
      "INFO:clonosGP:No CNt column in the data. Assuming all tumour samples are diploid over all provided loci.\n",
      "INFO:clonosGP:No CNm column in the data. Multiplicity values will be approximated.\n",
      "Average Loss = 767.06: 100%|██████████| 10000/10000 [00:13<00:00, 758.37it/s]\n",
      "Finished [100%]: Average Loss = 767.05\n",
      "INFO:pymc3.variational.inference:Finished [100%]: Average Loss = 767.05\n",
      "INFO:clonosGP:Calculating posterior cluster weights and centres.\n",
      "INFO:clonosGP:Calculating posterior CCF values.\n",
      "INFO:clonosGP:Calculating posterior predictive distribution.\n",
      "INFO:clonosGP:Calculating GP-related quantities.\n",
      "INFO:clonosGP:Calculating dispersion(s).\n",
      "INFO:clonosGP:Finished.\n"
     ]
    }
   ],
   "source": [
    "RES1 = [run_model('Flat', _) for _ in [DATA1, DATA2, DATA3, DATA4]]\n",
    "RES2 = [run_model('GP0', _) for _ in [DATA1, DATA2, DATA3, DATA4]]"
   ]
  },
  {
   "cell_type": "code",
   "execution_count": null,
   "metadata": {},
   "outputs": [],
   "source": [
    "data1, centres1 = [_['data'] for _ in RES1], [_['centres'] for _ in RES1]\n",
    "data2, centres2, centres_gp2 = [_['data'] for _ in RES2], [_['centres'] for _ in RES2], [_['centres_gp'] for _ in RES2]\n",
    "\n",
    "DATASETS = ['CLL003 (Schuh et al. 2012)', 'CLL006 (Schuh et al. 2012)', 'CLL077 (Schuh et al. 2012)', 'Pt.2 (Rincon et al. 2019)']\n",
    "LABELS = ['Flat', 'GP0-Mat32']\n",
    "\n",
    "data1 = pnd.concat([df.assign(DATASET=lab) for df, lab in zip(data1, DATASETS)]).assign(LABEL = LABELS[0])\n",
    "data2 = pnd.concat([df.assign(DATASET=lab) for df, lab in zip(data2, DATASETS)]).assign(LABEL = LABELS[1])\n",
    "data = pnd.concat([data1, data2])\n",
    "\n",
    "centres1 = pnd.concat([df.assign(DATASET=lab) for df, lab in zip(centres1, DATASETS)]).assign(LABEL = LABELS[0])\n",
    "centres2 = pnd.concat([df.assign(DATASET=lab) for df, lab in zip(centres2, DATASETS)]).assign(LABEL = LABELS[1])\n",
    "centres = pnd.concat([centres1, centres2])\n",
    "\n",
    "centres_gp = pnd.concat([df.assign(DATASET=lab) for df, lab in zip(centres_gp2, DATASETS)]).assign(LABEL = LABELS[1])"
   ]
  },
  {
   "cell_type": "code",
   "execution_count": null,
   "metadata": {},
   "outputs": [],
   "source": [
    "%load_ext rpy2.ipython\n",
    "%R library(tidyverse)\n",
    "%R library(patchwork)"
   ]
  },
  {
   "cell_type": "code",
   "execution_count": null,
   "metadata": {},
   "outputs": [],
   "source": [
    "%%R -i data,centres,centres_gp -w 10 -h 10 --units in\n",
    "\n",
    "auxfcn = function(df, ctrs, ctrs_gp, dataset) {\n",
    "    df1 = df %>% filter(DATASET == dataset, LABEL == 'Flat')\n",
    "    df2 = df %>% filter(DATASET == dataset, LABEL == 'GP0-Mat32')    \n",
    "    ctrs1 = ctrs %>% filter(DATASET == dataset, LABEL == 'Flat')\n",
    "    ctrs2 = ctrs %>% filter(DATASET == dataset, LABEL == 'GP0-Mat32')    \n",
    "    ctrs_gp = ctrs_gp %>% filter(DATASET == dataset)\n",
    "    \n",
    "    gg1 =\n",
    "        df2 %>%\n",
    "        ggplot() +\n",
    "        geom_line(aes(x = TIME2, y = VAF, group = MUTID, color = CLUSTERID)) +\n",
    "        scale_x_continuous(breaks = unique(df2$TIME2), labels = unique(df2$SAMPLEID)) +\n",
    "        scale_color_brewer(palette = 'Set2') +\n",
    "        labs(x = 'sample', y = 'variant allele fraction', title = dataset)\n",
    "\n",
    "    cids = df2 %>% filter(CLUSTERID != 'uncertain') %>% pull(CLUSTERID)\n",
    "    ctrs2 = ctrs2 %>% filter(CLUSTERID %in% cids) %>% mutate(CLUSTERID = as.factor(CLUSTERID))\n",
    "    ctrs_gp = ctrs_gp %>% filter(CLUSTERID %in% cids) %>% mutate(CLUSTERID = as.factor(CLUSTERID))\n",
    "\n",
    "    gg2 =\n",
    "        ggplot() +\n",
    "        geom_ribbon(aes(x = TIME, ymin = PHI_LO, ymax = PHI_HI, fill = CLUSTERID), data = ctrs_gp, alpha = 0.5) +        \n",
    "        geom_line(aes(x = TIME, y = PHI, color = CLUSTERID), data = ctrs_gp) +        \n",
    "        geom_point(aes(x = TIME2, y = PHI, color = CLUSTERID), data = ctrs2) +\n",
    "        scale_x_continuous(breaks = unique(df2$TIME2), labels = unique(df2$SAMPLEID)) +\n",
    "        scale_fill_brewer(palette = 'Set2') +\n",
    "        scale_color_brewer(palette = 'Set2') +\n",
    "        labs(x = 'sample', y = 'cancer cell fraction', title = str_c(unique(ctrs2$LABEL), ' model'))\n",
    "\n",
    "    cids = df1 %>% filter(CLUSTERID != 'uncertain') %>% pull(CLUSTERID)\n",
    "    ctrs1 = ctrs1 %>% filter(CLUSTERID %in% cids) %>% mutate(CLUSTERID = as.factor(CLUSTERID))\n",
    "    \n",
    "    gg3 =\n",
    "        ctrs1 %>%\n",
    "        ggplot() +\n",
    "        geom_line(aes(x = TIME2, y = PHI, group = CLUSTERID), linetype = 'dashed', position = position_dodge(width=0.05)) +    \n",
    "        geom_linerange(aes(x = TIME2, ymin = PHI_LO, ymax = PHI_HI, group = CLUSTERID), position = position_dodge(width=0.05)) +        \n",
    "        geom_point(aes(x = TIME2, y = PHI, group = CLUSTERID), position = position_dodge(width=0.05)) +\n",
    "        scale_x_continuous(breaks = unique(df1$TIME2), labels = unique(df1$SAMPLEID)) +\n",
    "        labs(x = 'sample', y = 'cancer cell fraction', title = str_c(unique(ctrs1$LABEL), ' model')) \n",
    "\n",
    "    gg1 + plot_layout(tag_level='new') + gg2 + gg3\n",
    "}\n",
    "\n",
    "row1 = auxfcn(data, centres, centres_gp, 'CLL003 (Schuh et al. 2012)')\n",
    "row2 = auxfcn(data, centres, centres_gp, 'CLL006 (Schuh et al. 2012)')\n",
    "row3 = auxfcn(data, centres, centres_gp, 'CLL077 (Schuh et al. 2012)')\n",
    "row4 = auxfcn(data, centres, centres_gp, 'Pt.2 (Rincon et al. 2019)')\n",
    "\n",
    "(row1 / row2 / row3 / row4) &\n",
    "plot_annotation(tag_levels = c('A', 'i')) &\n",
    "theme_bw() + \n",
    "theme(legend.position = 'none', \n",
    "      plot.title = element_text(hjust = 0.5))\n",
    "\n",
    "# ggsave('tmp.pdf')"
   ]
  },
  {
   "cell_type": "code",
   "execution_count": 6,
   "metadata": {},
   "outputs": [],
   "source": [
    "import sklearn.metrics as mtr"
   ]
  },
  {
   "cell_type": "code",
   "execution_count": 10,
   "metadata": {},
   "outputs": [
    {
     "name": "stdout",
     "output_type": "stream",
     "text": [
      "0.5404814004376368\n",
      "0.7860513896171998\n",
      "0.5838052095130237\n",
      "0.6310053061809838\n"
     ]
    }
   ],
   "source": [
    "for i in [0,1,2,3]:\n",
    "    z1 = RES1[i]['data'][['MUTID', 'CLUSTERID']].drop_duplicates().CLUSTERID.values\n",
    "    z2 = RES2[i]['data'][['MUTID', 'CLUSTERID']].drop_duplicates().CLUSTERID.values\n",
    "\n",
    "    print(mtr.adjusted_rand_score(z1, z2))"
   ]
  },
  {
   "cell_type": "code",
   "execution_count": null,
   "metadata": {},
   "outputs": [],
   "source": []
  }
 ],
 "metadata": {
  "kernelspec": {
   "display_name": "Python 3",
   "language": "python",
   "name": "python3"
  },
  "language_info": {
   "codemirror_mode": {
    "name": "ipython",
    "version": 3
   },
   "file_extension": ".py",
   "mimetype": "text/x-python",
   "name": "python",
   "nbconvert_exporter": "python",
   "pygments_lexer": "ipython3",
   "version": "3.7.3"
  }
 },
 "nbformat": 4,
 "nbformat_minor": 4
}
