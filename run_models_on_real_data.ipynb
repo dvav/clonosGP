{
 "cells": [
  {
   "cell_type": "code",
   "execution_count": 1,
   "metadata": {},
   "outputs": [],
   "source": [
    "import warnings as warn\n",
    "# warn.filterwarnings('always')\n",
    "import itertools as itr\n",
    "\n",
    "import numpy as nmp\n",
    "import pandas as pnd\n",
    "\n",
    "import pymc3 as pmc\n",
    "import joblib as jbl\n",
    "import clonosGP as cln"
   ]
  },
  {
   "cell_type": "code",
   "execution_count": 2,
   "metadata": {},
   "outputs": [],
   "source": [
    "%load_ext autoreload\n",
    "%autoreload 2\n",
    "\n",
    "%matplotlib inline"
   ]
  },
  {
   "cell_type": "code",
   "execution_count": 3,
   "metadata": {},
   "outputs": [],
   "source": [
    "def run_model(prior, cov, lik, data):    \n",
    "    nmp.random.seed(42)\n",
    "    pmc.tt_rng(42)\n",
    "\n",
    "    thr = 0.05 if lik == 'Bin' else 0.0\n",
    "    \n",
    "    res = cln.infer(data, \n",
    "                    model_args={'K': 20, 'prior': prior, 'cov': cov, 'lik': lik, 'threshold': thr}, \n",
    "                    pymc3_args={'niters': 40000, 'method': 'advi', 'flow': 'scale-loc', 'learning_rate': 1e-2, 'random_seed': 42})\n",
    "\n",
    "    loss = nmp.quantile(res['fit'].hist[30000:], [0.025, 0.5, 0.975])\n",
    "\n",
    "    return pnd.DataFrame({\n",
    "        'PRIOR': prior,\n",
    "        'COV': cov,\n",
    "        'LIK': lik,\n",
    "        'METRIC': 'LOSS',\n",
    "        'MEDIAN': loss[1],\n",
    "        'LOW': loss[0],\n",
    "        'HIGH': loss[2]\n",
    "    })\n"
   ]
  },
  {
   "cell_type": "code",
   "execution_count": 4,
   "metadata": {},
   "outputs": [
    {
     "name": "stderr",
     "output_type": "stream",
     "text": [
      "[Parallel(n_jobs=4)]: Using backend LokyBackend with 4 concurrent workers.\n",
      "[Parallel(n_jobs=4)]: Done   5 tasks      | elapsed:  2.0min\n",
      "[Parallel(n_jobs=4)]: Done  10 tasks      | elapsed:  3.0min\n",
      "[Parallel(n_jobs=4)]: Done  17 tasks      | elapsed:  5.2min\n",
      "[Parallel(n_jobs=4)]: Done  24 tasks      | elapsed:  7.3min\n",
      "[Parallel(n_jobs=4)]: Done  31 out of  34 | elapsed: 12.0min remaining:  1.2min\n",
      "[Parallel(n_jobs=4)]: Done  34 out of  34 | elapsed: 14.3min finished\n"
     ]
    }
   ],
   "source": [
    "ARGS = [('Flat', 'Exp', 'Bin'), ('Flat', 'Exp', 'BBin')] + list(itr.product(['GP0', 'GP1', 'GP2', 'GP3'], ['Exp', 'Mat32', 'Mat52', 'ExpQ'], ['Bin', 'BBin']))\n",
    "# FNAMES = ['cll_Rincon_2019_patient2.csv', 'cll_Schuh_2012_CLL003.csv', 'cll_Schuh_2012_CLL006.csv', \n",
    "#           'cll_Schuh_2012_CLL077.csv','melanoma_Cutts_2017.csv', 'cll_Rincon_2019_patient1.csv']\n",
    "FNAMES = ['cll_Schuh_2012_CLL006.csv']\n",
    "for fname in FNAMES:\n",
    "    DATA = pnd.read_csv(f'data/{fname}')\n",
    "    RES = jbl.Parallel(n_jobs=4, verbose=10)(jbl.delayed(run_model)(*_, DATA) for _ in ARGS)\n",
    "#     RES = [run_model(*_, DATA) for _ in ARGS]\n",
    "    RES = pnd.concat(RES).reset_index(drop=True)\n",
    "    RES.to_csv(f'results/{fname}', index=False)"
   ]
  },
  {
   "cell_type": "code",
   "execution_count": null,
   "metadata": {},
   "outputs": [],
   "source": []
  }
 ],
 "metadata": {
  "kernelspec": {
   "display_name": "Python 3",
   "language": "python",
   "name": "python3"
  },
  "language_info": {
   "codemirror_mode": {
    "name": "ipython",
    "version": 3
   },
   "file_extension": ".py",
   "mimetype": "text/x-python",
   "name": "python",
   "nbconvert_exporter": "python",
   "pygments_lexer": "ipython3",
   "version": "3.7.3"
  }
 },
 "nbformat": 4,
 "nbformat_minor": 4
}
