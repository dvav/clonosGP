{
 "cells": [
  {
   "cell_type": "code",
   "execution_count": 1,
   "metadata": {},
   "outputs": [],
   "source": [
    "import numpy as nmp\n",
    "import pandas as pnd\n",
    "import matplotlib.pyplot as plt\n",
    "\n",
    "import pymc3 as pmc\n",
    "\n",
    "import clonosGP as cln"
   ]
  },
  {
   "cell_type": "code",
   "execution_count": 2,
   "metadata": {},
   "outputs": [],
   "source": [
    "%load_ext autoreload\n",
    "%autoreload 2\n",
    "\n",
    "%matplotlib inline"
   ]
  },
  {
   "cell_type": "code",
   "execution_count": 3,
   "metadata": {},
   "outputs": [],
   "source": [
    "DATA = pnd.read_csv('data/melanoma_Cutts_2017.csv')\n",
    "METRICS = pnd.read_csv('results/melanoma_Cutts_2017.csv')"
   ]
  },
  {
   "cell_type": "code",
   "execution_count": 4,
   "metadata": {},
   "outputs": [
    {
     "name": "stderr",
     "output_type": "stream",
     "text": [
      "INFO:clonosGP:No CNm column in the data. Multiplicity values will be approximated.\n",
      "Average Loss = 2,370.8: 100%|██████████| 10000/10000 [00:39<00:00, 255.60it/s]\n",
      "Finished [100%]: Average Loss = 2,370.7\n",
      "INFO:pymc3.variational.inference:Finished [100%]: Average Loss = 2,370.7\n",
      "INFO:clonosGP:Calculating posterior cluster weights and centres.\n",
      "INFO:clonosGP:Calculating posterior CCF values.\n",
      "INFO:clonosGP:Calculating posterior predictive distribution.\n",
      "INFO:clonosGP:Calculating dispersion(s).\n",
      "INFO:clonosGP:Finished.\n"
     ]
    }
   ],
   "source": [
    "nmp.random.seed(42)\n",
    "pmc.tt_rng(42);\n",
    "\n",
    "RES1 = cln.infer(DATA, \n",
    "                 model_args={'K': 20, 'prior': 'Flat', 'cov': 'Mat32', 'lik': 'BBin', 'threshold': 0.0},\n",
    "                 pymc3_args={'niters': 10000, 'method': 'advi', 'flow': 'scale-loc', 'learning_rate': 1e-2, 'random_seed': 42})"
   ]
  },
  {
   "cell_type": "code",
   "execution_count": 5,
   "metadata": {},
   "outputs": [
    {
     "name": "stderr",
     "output_type": "stream",
     "text": [
      "INFO:clonosGP:No CNm column in the data. Multiplicity values will be approximated.\n",
      "WARNING (theano.tensor.blas): We did not find a dynamic library in the library_dir of the library we use for blas. If you use ATLAS, make sure to compile it with dynamics library.\n",
      "WARNING:theano.tensor.blas:We did not find a dynamic library in the library_dir of the library we use for blas. If you use ATLAS, make sure to compile it with dynamics library.\n",
      "  0%|          | 0/10000 [00:00<?, ?it/s]/home/dimitris/VENVS/py37/lib/python3.7/site-packages/theano/tensor/basic.py:6611: FutureWarning: Using a non-tuple sequence for multidimensional indexing is deprecated; use `arr[tuple(seq)]` instead of `arr[seq]`. In the future this will be interpreted as an array index, `arr[np.array(seq)]`, which will result either in an error or a different result.\n",
      "  result[diagonal_slice] = x\n",
      "Average Loss = 2,366.3: 100%|██████████| 10000/10000 [00:42<00:00, 235.81it/s]\n",
      "Finished [100%]: Average Loss = 2,366.3\n",
      "INFO:pymc3.variational.inference:Finished [100%]: Average Loss = 2,366.3\n",
      "INFO:clonosGP:Calculating posterior cluster weights and centres.\n",
      "INFO:clonosGP:Calculating posterior CCF values.\n",
      "INFO:clonosGP:Calculating posterior predictive distribution.\n",
      "INFO:clonosGP:Calculating GP-related quantities.\n",
      "INFO:clonosGP:Calculating dispersion(s).\n",
      "INFO:clonosGP:Finished.\n"
     ]
    }
   ],
   "source": [
    "nmp.random.seed(42)\n",
    "pmc.tt_rng(42);\n",
    "\n",
    "RES2 = cln.infer(DATA, \n",
    "                 model_args={'K': 20, 'prior': 'GP0', 'cov': 'Exp', 'lik': 'BBin', 'threshold': 0.0}, \n",
    "                 pymc3_args={'niters': 10000, 'method': 'advi', 'flow': 'scale-loc', 'learning_rate': 1e-2, 'random_seed': 42})"
   ]
  },
  {
   "cell_type": "code",
   "execution_count": 6,
   "metadata": {},
   "outputs": [],
   "source": [
    "data1, centres1 = RES1['data'], RES1['centres'] \n",
    "data2, centres2, centres_gp = RES2['data'], RES2['centres'], RES2['centres_gp']"
   ]
  },
  {
   "cell_type": "code",
   "execution_count": 7,
   "metadata": {},
   "outputs": [
    {
     "name": "stderr",
     "output_type": "stream",
     "text": [
      "WARNING:rpy2.rinterface_lib.callbacks:R[write to console]: ── \u001b[1mAttaching packages\u001b[22m ─────────────────────────────────────── tidyverse 1.3.0 ──\n",
      "\n",
      "WARNING:rpy2.rinterface_lib.callbacks:R[write to console]: \u001b[32m✔\u001b[39m \u001b[34mggplot2\u001b[39m 3.2.1     \u001b[32m✔\u001b[39m \u001b[34mpurrr  \u001b[39m 0.3.3\n",
      "\u001b[32m✔\u001b[39m \u001b[34mtibble \u001b[39m 2.1.3     \u001b[32m✔\u001b[39m \u001b[34mdplyr  \u001b[39m 0.8.3\n",
      "\u001b[32m✔\u001b[39m \u001b[34mtidyr  \u001b[39m 1.0.0     \u001b[32m✔\u001b[39m \u001b[34mstringr\u001b[39m 1.4.0\n",
      "\u001b[32m✔\u001b[39m \u001b[34mreadr  \u001b[39m 1.3.1     \u001b[32m✔\u001b[39m \u001b[34mforcats\u001b[39m 0.4.0\n",
      "\n",
      "WARNING:rpy2.rinterface_lib.callbacks:R[write to console]: ── \u001b[1mConflicts\u001b[22m ────────────────────────────────────────── tidyverse_conflicts() ──\n",
      "\u001b[31m✖\u001b[39m \u001b[34mdplyr\u001b[39m::\u001b[32mfilter()\u001b[39m masks \u001b[34mstats\u001b[39m::filter()\n",
      "\u001b[31m✖\u001b[39m \u001b[34mdplyr\u001b[39m::\u001b[32mlag()\u001b[39m    masks \u001b[34mstats\u001b[39m::lag()\n",
      "\n"
     ]
    },
    {
     "data": {
      "text/plain": [
       "array(['patchwork', 'forcats', 'stringr', 'dplyr', 'purrr', 'readr',\n",
       "       'tidyr', 'tibble', 'ggplot2', 'tidyverse', 'tools', 'stats',\n",
       "       'graphics', 'grDevices', 'utils', 'datasets', 'methods', 'base'],\n",
       "      dtype='<U9')"
      ]
     },
     "execution_count": 7,
     "metadata": {},
     "output_type": "execute_result"
    }
   ],
   "source": [
    "%load_ext rpy2.ipython\n",
    "%R library(tidyverse)\n",
    "%R library(patchwork)"
   ]
  },
  {
   "cell_type": "code",
   "execution_count": 12,
   "metadata": {},
   "outputs": [
    {
     "name": "stderr",
     "output_type": "stream",
     "text": [
      "WARNING:rpy2.rinterface_lib.callbacks:R[write to console]: Saving 10 x 10 in image\n",
      "\n"
     ]
    }
   ],
   "source": [
    "%%R -i data1,data2,centres1,centres2,centres_gp,METRICS -w 10 -h 10 --units in\n",
    "\n",
    "df2 = data2 %>% filter(CLUSTERID != 'uncertain')\n",
    "cids2 = df2 %>% pull(CLUSTERID) %>% unique()\n",
    "colors = colorRampPalette(RColorBrewer::brewer.pal(8, 'Set2'))(length(cids2))\n",
    "\n",
    "gg1 =\n",
    "    df2 %>%\n",
    "    ggplot() +\n",
    "    geom_line(aes(x = TIME2, y = VAF, group = MUTID, color = CLUSTERID)) +\n",
    "    scale_x_continuous(breaks = unique(df2$TIME2), labels = unique(df2$SAMPLEID)) +\n",
    "    scale_color_manual(values = colors) +\n",
    "    labs(x = NULL, y = 'variant allele fraction') +\n",
    "    theme_bw() +    \n",
    "    theme(legend.position = 'none',\n",
    "          axis.text.x = element_blank())\n",
    "\n",
    "ctrs2 = centres2 %>% filter(CLUSTERID %in% cids2) %>% mutate(CLUSTERID = as.character(CLUSTERID))\n",
    "ctrs_gp = centres_gp %>% filter(CLUSTERID %in% cids2) %>% mutate(CLUSTERID = as.character(CLUSTERID))\n",
    "gg2 =\n",
    "    ggplot() +\n",
    "#     geom_ribbon(aes(x = TIME, ymin = PHI_LO, ymax = PHI_HI, fill = CLUSTERID), data = ctrs_gp, alpha = 0.5) +\n",
    "    geom_line(aes(x = TIME, y = PHI, color = CLUSTERID), data = ctrs_gp) +\n",
    "    geom_point(aes(x = TIME2, y = PHI, color = CLUSTERID), data = ctrs2) +\n",
    "    scale_x_continuous(breaks = unique(df2$TIME2), labels = unique(df2$SAMPLEID)) +\n",
    "    scale_color_manual(values = colors) +\n",
    "    scale_fill_manual(values = colors) +\n",
    "    labs(x = NULL, y = 'cancer cell fraction') +\n",
    "    theme_bw() +\n",
    "    theme(legend.position = 'none',\n",
    "          axis.text.x = element_blank())\n",
    "\n",
    "df1 = data1 %>% filter(CLUSTERID != 'uncertain')     \n",
    "cids1 = df1 %>% pull(CLUSTERID) %>% unique()\n",
    "ctrs1 = centres1 %>% mutate(CLUSTERID = as.character(CLUSTERID)) %>% filter(CLUSTERID %in% cids1)\n",
    "gg3 =\n",
    "    ctrs1 %>%\n",
    "    ggplot() +\n",
    "    geom_line(aes(x = TIME2, y = PHI, group = CLUSTERID), linetype = 'dashed') +\n",
    "#     geom_linerange(aes(x = TIME2, ymin = PHI_LO, ymax=PHI_HI, group = CLUSTERID)) +    \n",
    "    geom_point(aes(x = TIME2, y = PHI, group = CLUSTERID)) +\n",
    "    scale_x_continuous(breaks = unique(df1$TIME2), labels = unique(df1$SAMPLEID)) +\n",
    "    labs(x = 'sample', y = 'cancer cell fraction') +\n",
    "    theme_bw() +\n",
    "    theme(legend.position = 'none',\n",
    "          axis.text.x = element_text(angle = 90, hjust = 1, vjust = 0.5))\n",
    "    \n",
    "metrics = \n",
    "    METRICS %>% \n",
    "    filter(LIK == 'BBin', METRIC == 'LOSS', PRIOR != 'GP2') %>% \n",
    "    mutate(LABEL = if_else(PRIOR == 'Flat', 'Flat', str_c(PRIOR, COV, sep='-'))) %>%\n",
    "    mutate(LABEL = factor(LABEL, levels = .$LABEL))\n",
    "\n",
    "med = metrics %>% filter(LABEL == 'Flat') %>% pull(MEDIAN)\n",
    "\n",
    "gg4 =\n",
    "    metrics %>%\n",
    "    ggplot() +\n",
    "    geom_hline(yintercept = -med, linetype = 'dashed') +        \n",
    "    geom_linerange(aes(x = LABEL, ymin = -HIGH, ymax=-LOW)) +    \n",
    "    geom_point(aes(x = LABEL, y = -MEDIAN)) +\n",
    "    labs(x = NULL, y = 'evidence lower bound') +\n",
    "    theme_bw() +\n",
    "    theme(axis.text.x = element_text(angle = 90, hjust = 1, vjust = 0.5))\n",
    "    \n",
    "gg1 / gg2 / gg3 / gg4 +\n",
    "    plot_annotation(tag_levels = 'A')\n",
    "    \n",
    "# ggsave('tmp.pdf')"
   ]
  },
  {
   "cell_type": "code",
   "execution_count": 9,
   "metadata": {},
   "outputs": [
    {
     "data": {
      "text/plain": [
       "(array(['1', '5', '2', '3', '6'], dtype=object),\n",
       " array(['2', '3', '5', '1', '4'], dtype=object))"
      ]
     },
     "execution_count": 9,
     "metadata": {},
     "output_type": "execute_result"
    }
   ],
   "source": [
    "data1.CLUSTERID.unique(), data2.CLUSTERID.unique() "
   ]
  },
  {
   "cell_type": "code",
   "execution_count": 10,
   "metadata": {},
   "outputs": [],
   "source": [
    "import sklearn.metrics as mtr"
   ]
  },
  {
   "cell_type": "code",
   "execution_count": 11,
   "metadata": {},
   "outputs": [
    {
     "data": {
      "text/plain": [
       "0.26998678280700206"
      ]
     },
     "execution_count": 11,
     "metadata": {},
     "output_type": "execute_result"
    }
   ],
   "source": [
    "z1 = RES1['data'][['MUTID', 'CLUSTERID']].drop_duplicates().CLUSTERID.values\n",
    "z2 = RES2['data'][['MUTID', 'CLUSTERID']].drop_duplicates().CLUSTERID.values\n",
    "\n",
    "mtr.adjusted_rand_score(z1, z2)"
   ]
  },
  {
   "cell_type": "code",
   "execution_count": null,
   "metadata": {},
   "outputs": [],
   "source": []
  }
 ],
 "metadata": {
  "kernelspec": {
   "display_name": "Python 3",
   "language": "python",
   "name": "python3"
  },
  "language_info": {
   "codemirror_mode": {
    "name": "ipython",
    "version": 3
   },
   "file_extension": ".py",
   "mimetype": "text/x-python",
   "name": "python",
   "nbconvert_exporter": "python",
   "pygments_lexer": "ipython3",
   "version": "3.7.3"
  }
 },
 "nbformat": 4,
 "nbformat_minor": 4
}
