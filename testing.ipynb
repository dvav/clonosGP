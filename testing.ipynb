{
 "cells": [
  {
   "cell_type": "code",
   "execution_count": 1,
   "metadata": {},
   "outputs": [],
   "source": [
    "import warnings as warn\n",
    "# warn.filterwarnings('always')\n",
    "\n",
    "import numpy as nmp\n",
    "import numpy.random as rnd\n",
    "import scipy as scp\n",
    "import pandas as pnd\n",
    "import matplotlib.pyplot as plt\n",
    "import sklearn.metrics as mtr\n",
    "import seaborn as sbn\n",
    "\n",
    "\n",
    "import theano.tensor as tns\n",
    "import pymc3 as pmc\n",
    "\n",
    "import clonosGP as cln"
   ]
  },
  {
   "cell_type": "code",
   "execution_count": null,
   "metadata": {},
   "outputs": [],
   "source": [
    "%load_ext autoreload\n",
    "%autoreload 2\n",
    "\n",
    "%matplotlib inline"
   ]
  },
  {
   "cell_type": "code",
   "execution_count": null,
   "metadata": {},
   "outputs": [],
   "source": [
    "# data\n",
    "# DATA = pnd.read_csv('data/melanoma_Cutts_2017.csv')\n",
    "# DATA = pnd.read_csv('data/cll_Rincon_2019_patient1.csv')\n",
    "# DATA = pnd.read_csv('data/cll_Rincon_2019_patient2.csv')\n",
    "# DATA = pnd.read_csv('data/cll_Zerilli_2016_patient13.csv')\n",
    "# DATA = pnd.read_csv('data/cll_Schuh_2012_CLL003.csv')\n",
    "# DATA = pnd.read_csv('data/Richters_clean_deleterious.csv'); DATA = DATA[(DATA.SAMPLEID == 'CH1001') & (DATA.PHASE == 'CLL')]\n",
    "\n",
    "# DATA = cln.sim.get_1sample(nmuts=100, mean_depth=1000)\n",
    "DATA = cln.sim.get_Nsamples(nsamples=12, tau=1, h2=20)"
   ]
  },
  {
   "cell_type": "code",
   "execution_count": null,
   "metadata": {},
   "outputs": [],
   "source": [
    "nmp.random.seed(42)\n",
    "pmc.tt_rng(42)\n",
    "\n",
    "RES = cln.infer(DATA, \n",
    "                model_args={'K': 20, 'prior': 'Flat', 'cov': 'Mat32', 'lik': 'Bin', 'threshold': 0.0}, \n",
    "                pymc3_args={'niters': 10000, 'method': 'advi', 'flow': 'scale-loc', 'learning_rate': 1e-2, 'random_seed': 42})"
   ]
  },
  {
   "cell_type": "code",
   "execution_count": null,
   "metadata": {},
   "outputs": [],
   "source": [
    "cln.viz.plot_summary(RES, figsize=(10, 10));\n",
    "cln.viz.plot_samples(RES, samples=None, ncols=2, figsize=(7,20), hist=True);"
   ]
  },
  {
   "cell_type": "code",
   "execution_count": null,
   "metadata": {},
   "outputs": [],
   "source": [
    "RES['data'].groupby('CLUSTERID').count()"
   ]
  },
  {
   "cell_type": "code",
   "execution_count": null,
   "metadata": {},
   "outputs": [],
   "source": [
    "plt.subplot(2, 1, 1); plt.hist(DATA.R, 100);\n",
    "plt.subplot(2, 1, 2); plt.hist(nmp.random.choice(DATA.R.values, 100), 100);"
   ]
  },
  {
   "cell_type": "code",
   "execution_count": 10,
   "metadata": {},
   "outputs": [
    {
     "name": "stdout",
     "output_type": "stream",
     "text": [
      "\n",
      "INSTALLED VERSIONS\n",
      "------------------\n",
      "commit           : None\n",
      "python           : 3.7.3.final.0\n",
      "python-bits      : 64\n",
      "OS               : Linux\n",
      "OS-release       : 5.0.0-37-generic\n",
      "machine          : x86_64\n",
      "processor        : x86_64\n",
      "byteorder        : little\n",
      "LC_ALL           : None\n",
      "LANG             : en_GB.UTF-8\n",
      "LOCALE           : en_GB.UTF-8\n",
      "\n",
      "pandas           : 0.25.3\n",
      "numpy            : 1.17.5\n",
      "pytz             : 2019.3\n",
      "dateutil         : 2.8.1\n",
      "pip              : 19.3.1\n",
      "setuptools       : 44.0.0\n",
      "Cython           : None\n",
      "pytest           : 5.3.2\n",
      "hypothesis       : None\n",
      "sphinx           : None\n",
      "blosc            : None\n",
      "feather          : None\n",
      "xlsxwriter       : None\n",
      "lxml.etree       : None\n",
      "html5lib         : None\n",
      "pymysql          : None\n",
      "psycopg2         : None\n",
      "jinja2           : 2.10.3\n",
      "IPython          : 7.11.1\n",
      "pandas_datareader: None\n",
      "bs4              : None\n",
      "bottleneck       : None\n",
      "fastparquet      : None\n",
      "gcsfs            : None\n",
      "lxml.etree       : None\n",
      "matplotlib       : 3.1.2\n",
      "numexpr          : None\n",
      "odfpy            : None\n",
      "openpyxl         : None\n",
      "pandas_gbq       : None\n",
      "pyarrow          : None\n",
      "pytables         : None\n",
      "s3fs             : None\n",
      "scipy            : 1.4.1\n",
      "sqlalchemy       : 1.3.12\n",
      "tables           : None\n",
      "xarray           : 0.14.1\n",
      "xlrd             : None\n",
      "xlwt             : None\n",
      "xlsxwriter       : None\n"
     ]
    }
   ],
   "source": []
  },
  {
   "cell_type": "code",
   "execution_count": null,
   "metadata": {},
   "outputs": [],
   "source": []
  }
 ],
 "metadata": {
  "kernelspec": {
   "display_name": "Python 3",
   "language": "python",
   "name": "python3"
  },
  "language_info": {
   "codemirror_mode": {
    "name": "ipython",
    "version": 3
   },
   "file_extension": ".py",
   "mimetype": "text/x-python",
   "name": "python",
   "nbconvert_exporter": "python",
   "pygments_lexer": "ipython3",
   "version": "3.7.3"
  }
 },
 "nbformat": 4,
 "nbformat_minor": 4
}
